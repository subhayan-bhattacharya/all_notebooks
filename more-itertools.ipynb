{
 "cells": [
  {
   "cell_type": "code",
   "execution_count": 1,
   "metadata": {},
   "outputs": [
    {
     "name": "stdout",
     "output_type": "stream",
     "text": [
      "Collecting more-itertools\n",
      "  Using cached more_itertools-8.5.0-py3-none-any.whl (44 kB)\n",
      "Installing collected packages: more-itertools\n",
      "Successfully installed more-itertools-8.5.0\n"
     ]
    }
   ],
   "source": [
    "!pip install more-itertools"
   ]
  },
  {
   "cell_type": "code",
   "execution_count": 2,
   "metadata": {},
   "outputs": [],
   "source": [
    "from more_itertools import chunked"
   ]
  },
  {
   "cell_type": "code",
   "execution_count": 3,
   "metadata": {},
   "outputs": [],
   "source": [
    "numbers = list(range(10, 100, 5))"
   ]
  },
  {
   "cell_type": "code",
   "execution_count": 4,
   "metadata": {},
   "outputs": [
    {
     "data": {
      "text/plain": [
       "[10, 15, 20, 25, 30, 35, 40, 45, 50, 55, 60, 65, 70, 75, 80, 85, 90, 95]"
      ]
     },
     "execution_count": 4,
     "metadata": {},
     "output_type": "execute_result"
    }
   ],
   "source": [
    "numbers"
   ]
  },
  {
   "cell_type": "code",
   "execution_count": 5,
   "metadata": {},
   "outputs": [
    {
     "name": "stdout",
     "output_type": "stream",
     "text": [
      "[10, 15, 20]\n",
      "[25, 30, 35]\n",
      "[40, 45, 50]\n",
      "[55, 60, 65]\n",
      "[70, 75, 80]\n",
      "[85, 90, 95]\n"
     ]
    }
   ],
   "source": [
    "for chunks in chunked(numbers, 3):\n",
    "    print(chunks)"
   ]
  },
  {
   "cell_type": "code",
   "execution_count": 9,
   "metadata": {},
   "outputs": [
    {
     "name": "stdout",
     "output_type": "stream",
     "text": [
      "<callable_iterator object at 0x7f886d732950>\n",
      "[10, 15, 20, 25]\n"
     ]
    }
   ],
   "source": [
    "new_chunk = chunked(numbers, 4)\n",
    "print(new_chunk)\n",
    "print(next(new_chunk))"
   ]
  },
  {
   "cell_type": "code",
   "execution_count": 7,
   "metadata": {},
   "outputs": [
    {
     "name": "stdout",
     "output_type": "stream",
     "text": [
      "10\n",
      "20\n",
      "30\n",
      "40\n",
      "50\n",
      "60\n",
      "70\n",
      "80\n",
      "90\n",
      "100\n"
     ]
    }
   ],
   "source": [
    "import itertools\n",
    "\n",
    "func = itertools.count(10, 10)\n",
    "\n",
    "for _ in itertools.repeat(None, 10):\n",
    "    print(next(func))\n"
   ]
  },
  {
   "cell_type": "code",
   "execution_count": 19,
   "metadata": {},
   "outputs": [],
   "source": [
    "def break_iterables(iterables, indices):\n",
    "    start_index = 0\n",
    "    for index in indices:\n",
    "        yield iterables[start_index:index]\n",
    "        start_index = index + 1\n",
    "    yield iterables[start_index:]"
   ]
  },
  {
   "cell_type": "code",
   "execution_count": 20,
   "metadata": {},
   "outputs": [
    {
     "data": {
      "text/plain": [
       "38"
      ]
     },
     "execution_count": 20,
     "metadata": {},
     "output_type": "execute_result"
    }
   ],
   "source": [
    "numbers = list(range(10, 200, 5))\n",
    "len(numbers)"
   ]
  },
  {
   "cell_type": "code",
   "execution_count": 24,
   "metadata": {},
   "outputs": [
    {
     "data": {
      "text/plain": [
       "[10,\n",
       " 15,\n",
       " 20,\n",
       " 25,\n",
       " 30,\n",
       " 35,\n",
       " 40,\n",
       " 45,\n",
       " 50,\n",
       " 55,\n",
       " 60,\n",
       " 65,\n",
       " 70,\n",
       " 75,\n",
       " 80,\n",
       " 85,\n",
       " 90,\n",
       " 95,\n",
       " 100,\n",
       " 105,\n",
       " 110,\n",
       " 115,\n",
       " 120,\n",
       " 125,\n",
       " 130,\n",
       " 135,\n",
       " 140,\n",
       " 145,\n",
       " 150,\n",
       " 155,\n",
       " 160,\n",
       " 165,\n",
       " 170,\n",
       " 175,\n",
       " 180,\n",
       " 185,\n",
       " 190,\n",
       " 195]"
      ]
     },
     "execution_count": 24,
     "metadata": {},
     "output_type": "execute_result"
    }
   ],
   "source": [
    "numbers"
   ]
  },
  {
   "cell_type": "code",
   "execution_count": 21,
   "metadata": {},
   "outputs": [],
   "source": [
    "import random\n",
    "\n",
    "indices = sorted([random.randint(1, 37) for _ in itertools.repeat(None, 10)])"
   ]
  },
  {
   "cell_type": "code",
   "execution_count": 22,
   "metadata": {},
   "outputs": [
    {
     "data": {
      "text/plain": [
       "[3, 6, 7, 15, 19, 23, 25, 34, 34, 36]"
      ]
     },
     "execution_count": 22,
     "metadata": {},
     "output_type": "execute_result"
    }
   ],
   "source": [
    "indices"
   ]
  },
  {
   "cell_type": "code",
   "execution_count": 29,
   "metadata": {},
   "outputs": [
    {
     "name": "stdout",
     "output_type": "stream",
     "text": [
      "Ok got <itertools.islice object at 0x7f886d73a9b0>... now opening it...\n",
      "[10, 15, 20]\n",
      "[30, 35]\n",
      "Ok got <itertools.islice object at 0x7f8be6eb2fb0>... now opening it...\n",
      "[]\n",
      "[50, 55, 60, 65, 70, 75, 80]\n",
      "Ok got <itertools.islice object at 0x7f8be6e7f350>... now opening it...\n",
      "[90, 95, 100]\n",
      "[110, 115, 120]\n",
      "Ok got <itertools.islice object at 0x7f8be6eb2fb0>... now opening it...\n",
      "[130]\n",
      "[140, 145, 150, 155, 160, 165, 170, 175]\n",
      "Ok got <itertools.islice object at 0x7f886d73a9b0>... now opening it...\n",
      "[]\n",
      "[185]\n",
      "Ok got <itertools.islice object at 0x7f8be6eb2fb0>... now opening it...\n",
      "[195]\n"
     ]
    }
   ],
   "source": [
    "from more_itertools import ichunked\n",
    "\n",
    "check = ichunked(break_iterables(numbers, indices), 2)\n",
    "\n",
    "for c in check:\n",
    "    print(f\"Ok got {c}... now opening it...\")\n",
    "    for arrays in c:\n",
    "        print(arrays)"
   ]
  },
  {
   "cell_type": "code",
   "execution_count": 30,
   "metadata": {},
   "outputs": [
    {
     "data": {
      "text/plain": [
       "<generator object break_iterables at 0x7f8be71c3e50>"
      ]
     },
     "execution_count": 30,
     "metadata": {},
     "output_type": "execute_result"
    }
   ],
   "source": [
    "gen = break_iterables(numbers, indices)\n",
    "gen"
   ]
  },
  {
   "cell_type": "code",
   "execution_count": 31,
   "metadata": {},
   "outputs": [],
   "source": [
    "from more_itertools import spy\n",
    "\n",
    "head, iterable = spy(gen)"
   ]
  },
  {
   "cell_type": "code",
   "execution_count": 32,
   "metadata": {},
   "outputs": [
    {
     "data": {
      "text/plain": [
       "[[10, 15, 20]]"
      ]
     },
     "execution_count": 32,
     "metadata": {},
     "output_type": "execute_result"
    }
   ],
   "source": [
    "head"
   ]
  },
  {
   "cell_type": "code",
   "execution_count": 33,
   "metadata": {},
   "outputs": [
    {
     "data": {
      "text/plain": [
       "<itertools.chain at 0x7f886d73b3d0>"
      ]
     },
     "execution_count": 33,
     "metadata": {},
     "output_type": "execute_result"
    }
   ],
   "source": [
    "iterable"
   ]
  },
  {
   "cell_type": "code",
   "execution_count": 34,
   "metadata": {},
   "outputs": [
    {
     "name": "stdout",
     "output_type": "stream",
     "text": [
      "[10, 15, 20]\n",
      "[30, 35]\n",
      "[]\n",
      "[50, 55, 60, 65, 70, 75, 80]\n",
      "[90, 95, 100]\n",
      "[110, 115, 120]\n",
      "[130]\n",
      "[140, 145, 150, 155, 160, 165, 170, 175]\n",
      "[]\n",
      "[185]\n",
      "[195]\n"
     ]
    }
   ],
   "source": [
    "for elements in iterable:\n",
    "    print(elements)"
   ]
  },
  {
   "cell_type": "code",
   "execution_count": null,
   "metadata": {},
   "outputs": [],
   "source": []
  }
 ],
 "metadata": {
  "kernelspec": {
   "display_name": "hydra",
   "language": "python",
   "name": "hydra"
  },
  "language_info": {
   "codemirror_mode": {
    "name": "ipython",
    "version": 3
   },
   "file_extension": ".py",
   "mimetype": "text/x-python",
   "name": "python",
   "nbconvert_exporter": "python",
   "pygments_lexer": "ipython3",
   "version": "3.7.9"
  }
 },
 "nbformat": 4,
 "nbformat_minor": 4
}
