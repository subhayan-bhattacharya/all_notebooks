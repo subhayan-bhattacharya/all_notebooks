{
 "cells": [
  {
   "cell_type": "code",
   "execution_count": 3,
   "metadata": {},
   "outputs": [
    {
     "name": "stdout",
     "output_type": "stream",
     "text": [
      "All admins are : ['Leo', 'Martin', 'Thomas', 'Katrin']\n",
      "All members are : ['Subhayan', 'Clemens', 'Thoralf']\n",
      "All juniors are : ['Orianne', 'Antonia', 'Sarah']\n"
     ]
    }
   ],
   "source": [
    "# I wanted to ask this as a question on Stackoverflow\n",
    "\n",
    "backend_data = {\n",
    "    \"admins\": [\"Leo\", \"Martin\", \"Thomas\", \"Katrin\"],\n",
    "    \"members\": [\n",
    "        \"Leo\",\n",
    "        \"Martin\",\n",
    "        \"Thomas\",\n",
    "        \"Katrin\",\n",
    "        \"Subhayan\",\n",
    "        \"Clemens\",\n",
    "        \"Thoralf\"\n",
    "    ],\n",
    "    \"juniors\": [\"Orianne\", \"Antonia\", \"Sarah\"]\n",
    "}\n",
    "\n",
    "class Backend:\n",
    "    def __init__(self, data):\n",
    "        self.backend_data = data\n",
    "        \n",
    "    def get_all_admins(self):\n",
    "        return self.backend_data.get(\"admins\")\n",
    "    \n",
    "    def get_all_members(self):\n",
    "        return self.backend_data.get(\"members\")\n",
    "    \n",
    "    def get_all_juniors(self):\n",
    "        return self.backend_data.get(\"juniors\")\n",
    "    \n",
    "    \n",
    "class BackendAdaptor:\n",
    "    # Does some conversion and validation\n",
    "    def __init__(self, backend):\n",
    "        self.backend = backend\n",
    "        \n",
    "    def get_all_admins(self):\n",
    "        return (admin for admin in self.backend.get_all_admins())\n",
    "    \n",
    "    def get_all_members(self):\n",
    "        return (member for member in self.backend.get_all_members() if member not in self.backend.get_all_admins())\n",
    "    \n",
    "    def get_all_juniors(self):\n",
    "        return (junior for junior in self.backend.get_all_juniors())\n",
    "    \n",
    "    \n",
    "if __name__ == \"__main__\":\n",
    "    backend = Backend(data=backend_data)\n",
    "    adaptor = BackendAdaptor(backend=backend)\n",
    "    print(f\"All admins are : {list(adaptor.get_all_admins())}\")\n",
    "    print(f\"All members are : {list(adaptor.get_all_members())}\")\n",
    "    print(f\"All juniors are : {list(adaptor.get_all_juniors())}\")\n",
    "        "
   ]
  },
  {
   "cell_type": "code",
   "execution_count": null,
   "metadata": {},
   "outputs": [],
   "source": []
  }
 ],
 "metadata": {
  "kernelspec": {
   "display_name": "notebooks",
   "language": "python",
   "name": "notebooks"
  },
  "language_info": {
   "codemirror_mode": {
    "name": "ipython",
    "version": 3
   },
   "file_extension": ".py",
   "mimetype": "text/x-python",
   "name": "python",
   "nbconvert_exporter": "python",
   "pygments_lexer": "ipython3",
   "version": "3.7.9"
  }
 },
 "nbformat": 4,
 "nbformat_minor": 4
}
