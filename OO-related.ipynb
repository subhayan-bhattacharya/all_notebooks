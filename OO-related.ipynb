{
 "cells": [
  {
   "cell_type": "code",
   "execution_count": 18,
   "metadata": {},
   "outputs": [
    {
     "name": "stdout",
     "output_type": "stream",
     "text": [
      "All admins are : ['Leo', 'Martin', 'Thomas', 'Katrin', 'Gregor', 'Alex']\n",
      "All members are : ['Subhayan', 'Clemens', 'Thoralf']\n",
      "All juniors are : ['Orianne', 'Antonia', 'Sarah']\n"
     ]
    },
    {
     "ename": "AttributeError",
     "evalue": "'get_something_else' not in backend.",
     "output_type": "error",
     "traceback": [
      "\u001b[0;31m---------------------------------------------------------------------------\u001b[0m",
      "\u001b[0;31mAttributeError\u001b[0m                            Traceback (most recent call last)",
      "\u001b[0;32m<ipython-input-18-a261bfa26900>\u001b[0m in \u001b[0;36m<module>\u001b[0;34m\u001b[0m\n\u001b[1;32m     62\u001b[0m     \u001b[0mprint\u001b[0m\u001b[0;34m(\u001b[0m\u001b[0;34mf\"All members are : {list(adaptor.get_all_members())}\"\u001b[0m\u001b[0;34m)\u001b[0m\u001b[0;34m\u001b[0m\u001b[0;34m\u001b[0m\u001b[0m\n\u001b[1;32m     63\u001b[0m     \u001b[0mprint\u001b[0m\u001b[0;34m(\u001b[0m\u001b[0;34mf\"All juniors are : {list(adaptor.get_all_juniors())}\"\u001b[0m\u001b[0;34m)\u001b[0m\u001b[0;34m\u001b[0m\u001b[0;34m\u001b[0m\u001b[0m\n\u001b[0;32m---> 64\u001b[0;31m     \u001b[0madaptor\u001b[0m\u001b[0;34m.\u001b[0m\u001b[0mget_something_else\u001b[0m\u001b[0;34m(\u001b[0m\u001b[0;34m)\u001b[0m \u001b[0;31m# This should raise an attribute error\u001b[0m\u001b[0;34m\u001b[0m\u001b[0;34m\u001b[0m\u001b[0m\n\u001b[0m\u001b[1;32m     65\u001b[0m \u001b[0;34m\u001b[0m\u001b[0m\n",
      "\u001b[0;32m<ipython-input-18-a261bfa26900>\u001b[0m in \u001b[0;36m__getattr__\u001b[0;34m(self, name)\u001b[0m\n\u001b[1;32m     52\u001b[0m     \u001b[0;32mdef\u001b[0m \u001b[0m__getattr__\u001b[0m\u001b[0;34m(\u001b[0m\u001b[0mself\u001b[0m\u001b[0;34m,\u001b[0m \u001b[0mname\u001b[0m\u001b[0;34m)\u001b[0m\u001b[0;34m:\u001b[0m\u001b[0;34m\u001b[0m\u001b[0;34m\u001b[0m\u001b[0m\n\u001b[1;32m     53\u001b[0m         \u001b[0;32mif\u001b[0m \u001b[0;32mnot\u001b[0m \u001b[0mhasattr\u001b[0m\u001b[0;34m(\u001b[0m\u001b[0mself\u001b[0m\u001b[0;34m.\u001b[0m\u001b[0mbackend\u001b[0m\u001b[0;34m,\u001b[0m \u001b[0mname\u001b[0m\u001b[0;34m)\u001b[0m\u001b[0;34m:\u001b[0m\u001b[0;34m\u001b[0m\u001b[0;34m\u001b[0m\u001b[0m\n\u001b[0;32m---> 54\u001b[0;31m             \u001b[0;32mraise\u001b[0m \u001b[0mAttributeError\u001b[0m\u001b[0;34m(\u001b[0m\u001b[0;34mf\"'{name}' not in backend.\"\u001b[0m\u001b[0;34m)\u001b[0m\u001b[0;34m\u001b[0m\u001b[0;34m\u001b[0m\u001b[0m\n\u001b[0m\u001b[1;32m     55\u001b[0m         \u001b[0;32mreturn\u001b[0m \u001b[0;32mlambda\u001b[0m \u001b[0;34m*\u001b[0m\u001b[0margs\u001b[0m\u001b[0;34m,\u001b[0m \u001b[0;34m**\u001b[0m\u001b[0mkwargs\u001b[0m\u001b[0;34m:\u001b[0m \u001b[0;34m(\u001b[0m\u001b[0mi\u001b[0m \u001b[0;32mfor\u001b[0m \u001b[0mi\u001b[0m \u001b[0;32min\u001b[0m \u001b[0mgetattr\u001b[0m\u001b[0;34m(\u001b[0m\u001b[0mself\u001b[0m\u001b[0;34m.\u001b[0m\u001b[0mbackend\u001b[0m\u001b[0;34m,\u001b[0m \u001b[0mname\u001b[0m\u001b[0;34m)\u001b[0m\u001b[0;34m(\u001b[0m\u001b[0;34m*\u001b[0m\u001b[0margs\u001b[0m\u001b[0;34m,\u001b[0m \u001b[0;34m**\u001b[0m\u001b[0mkwargs\u001b[0m\u001b[0;34m)\u001b[0m\u001b[0;34m)\u001b[0m\u001b[0;34m\u001b[0m\u001b[0;34m\u001b[0m\u001b[0m\n\u001b[1;32m     56\u001b[0m \u001b[0;34m\u001b[0m\u001b[0m\n",
      "\u001b[0;31mAttributeError\u001b[0m: 'get_something_else' not in backend."
     ]
    }
   ],
   "source": [
    "# I wanted to ask this as a question on Stackoverflow\n",
    "\n",
    "backend_data = {\n",
    "    \"admins\": [\"Leo\", \"Martin\", \"Thomas\", \"Katrin\"],\n",
    "    \"members\": [\n",
    "        \"Leo\",\n",
    "        \"Martin\",\n",
    "        \"Thomas\",\n",
    "        \"Katrin\",\n",
    "        \"Subhayan\",\n",
    "        \"Clemens\",\n",
    "        \"Thoralf\"\n",
    "    ],\n",
    "    \"juniors\": [\"Orianne\", \"Antonia\", \"Sarah\"]\n",
    "}\n",
    "\n",
    "class Backend:\n",
    "    def __init__(self, data):\n",
    "        self.backend_data = data\n",
    "        \n",
    "    def get_all_admins(self, extras=None):\n",
    "        if extras is None:\n",
    "            return self.backend_data.get(\"admins\")\n",
    "        data = self.backend_data.get(\"admins\")\n",
    "        data.extend(extras)\n",
    "        return data\n",
    "    \n",
    "    def get_all_members(self):\n",
    "        return self.backend_data.get(\"members\")\n",
    "    \n",
    "    def get_all_juniors(self):\n",
    "        return self.backend_data.get(\"juniors\")\n",
    "    \n",
    "    \n",
    "class BackendAdaptor:\n",
    "    # Does some conversion and validation\n",
    "    # For the methods get_all_juniors and get_all_admins\n",
    "    # The method just delegates to backend and returns a generator of the results\n",
    "    # While for the method get_all_members there is some validation\n",
    "    def __init__(self, backend):\n",
    "        self.backend = backend\n",
    "        \n",
    "#     def get_all_admins(self, extras=None):\n",
    "#         return (admin for admin in self.backend.get_all_admins(extras))\n",
    "    \n",
    "    def get_all_members(self):\n",
    "        return (member for member in self.backend.get_all_members() if member not in self.backend.get_all_admins())\n",
    "    \n",
    "#     def get_all_juniors(self):\n",
    "#         return (junior for junior in self.backend.get_all_juniors())\n",
    "    \n",
    "    def __getattr__(self, name):\n",
    "        if not hasattr(self.backend, name):\n",
    "            raise AttributeError(f\"'{name}' not in backend.\")\n",
    "        return lambda *args, **kwargs: (i for i in getattr(self.backend, name)(*args, **kwargs))\n",
    "    \n",
    "    \n",
    "if __name__ == \"__main__\":\n",
    "    backend = Backend(data=backend_data)\n",
    "    adaptor = BackendAdaptor(backend=backend)\n",
    "    print(f\"All admins are : {list(adaptor.get_all_admins(extras=['Gregor', 'Alex']))}\")\n",
    "    print(f\"All members are : {list(adaptor.get_all_members())}\")\n",
    "    print(f\"All juniors are : {list(adaptor.get_all_juniors())}\")\n",
    "    adaptor.get_something_else() # This should raise an attribute error\n",
    "        "
   ]
  },
  {
   "cell_type": "code",
   "execution_count": 3,
   "metadata": {},
   "outputs": [],
   "source": [
    "numbers = list(range(10, 100, 5))"
   ]
  },
  {
   "cell_type": "code",
   "execution_count": 4,
   "metadata": {},
   "outputs": [
    {
     "data": {
      "text/plain": [
       "[10, 15, 20, 25, 30, 35, 40, 45, 50, 55, 60, 65, 70, 75, 80, 85, 90, 95]"
      ]
     },
     "execution_count": 4,
     "metadata": {},
     "output_type": "execute_result"
    }
   ],
   "source": [
    "numbers"
   ]
  },
  {
   "cell_type": "code",
   "execution_count": 11,
   "metadata": {},
   "outputs": [
    {
     "name": "stdout",
     "output_type": "stream",
     "text": [
      "Number at index : 25\n",
      "[10, 15, 20]\n",
      "Number at index : 40\n",
      "[30, 35]\n",
      "Number at index : 60\n",
      "[45, 50, 55]\n",
      "Number at index : 75\n",
      "[65, 70]\n",
      "Finally : [80, 85, 90, 95]\n"
     ]
    }
   ],
   "source": [
    "some_indices = [3, 6, 10, 13]\n",
    "start_index = 0\n",
    "for index in some_indices:\n",
    "    print(f\"Number at index : {numbers[index]}\")\n",
    "    print(numbers[start_index:index])\n",
    "    start_index = index + 1\n",
    "print(f\"Finally : {numbers[start_index:]}\")"
   ]
  },
  {
   "cell_type": "code",
   "execution_count": 3,
   "metadata": {},
   "outputs": [
    {
     "name": "stdout",
     "output_type": "stream",
     "text": [
      "[30, 35]\n",
      "[45, 50, 55]\n",
      "[65, 70]\n",
      "[80, 85, 90, 95]\n"
     ]
    }
   ],
   "source": [
    "# Recipe to break a dataframe into chunks\n",
    "\n",
    "import itertools\n",
    "\n",
    "def break_up_iterable_into_chunks(numbers, chunk_indices):\n",
    "    start_index = 0\n",
    "    for index in chunk_indices:\n",
    "        yield numbers[start_index:index]\n",
    "        start_index = index + 1\n",
    "    yield numbers[start_index:]\n",
    "    \n",
    "\n",
    "for chunk in itertools.islice(break_up_iterable_into_chunks(numbers=list(range(10, 100, 5)), chunk_indices=[3, 6, 10, 13]), 1, None):\n",
    "    print(chunk)"
   ]
  },
  {
   "cell_type": "code",
   "execution_count": null,
   "metadata": {},
   "outputs": [],
   "source": []
  }
 ],
 "metadata": {
  "kernelspec": {
   "display_name": "notebooks",
   "language": "python",
   "name": "notebooks"
  },
  "language_info": {
   "codemirror_mode": {
    "name": "ipython",
    "version": 3
   },
   "file_extension": ".py",
   "mimetype": "text/x-python",
   "name": "python",
   "nbconvert_exporter": "python",
   "pygments_lexer": "ipython3",
   "version": "3.8.5"
  }
 },
 "nbformat": 4,
 "nbformat_minor": 4
}
